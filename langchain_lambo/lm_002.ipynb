{
 "cells": [
  {
   "cell_type": "code",
   "execution_count": 1,
   "id": "829cf262-6034-4208-9399-d619c8961874",
   "metadata": {},
   "outputs": [],
   "source": [
    "from openai import OpenAI\n",
    "import config \n",
    "\n",
    "client = OpenAI(api_key=config.api_key)"
   ]
  },
  {
   "cell_type": "code",
   "execution_count": 2,
   "id": "5755eb3f-bb1d-4959-a387-4a5b070992b1",
   "metadata": {},
   "outputs": [
    {
     "name": "stderr",
     "output_type": "stream",
     "text": [
      "USER_AGENT environment variable not set, consider setting it to identify your requests.\n"
     ]
    }
   ],
   "source": [
    "from langchain.document_loaders import WebBaseLoader\n",
    "from langchain.text_splitter import RecursiveCharacterTextSplitter\n",
    "from langchain.embeddings import OpenAIEmbeddings\n",
    "from langchain.vectorstores import FAISS\n",
    "from langchain.memory import ConversationBufferMemory\n",
    "from langchain.llms import OpenAI\n",
    "from langchain.chains import ConversationalRetrievalChain\n",
    "from langchain.chat_models import ChatOpenAI"
   ]
  },
  {
   "cell_type": "code",
   "execution_count": 3,
   "id": "e6a81473-d37f-4148-b859-99cd7548a505",
   "metadata": {},
   "outputs": [],
   "source": [
    "url = 'https://www.lamborghini.com/en-en/history/lm-002'"
   ]
  },
  {
   "cell_type": "code",
   "execution_count": 4,
   "id": "e1d994ff-f245-4f8e-afd9-aa8bbc4c5b66",
   "metadata": {},
   "outputs": [],
   "source": [
    "loader = WebBaseLoader(url)"
   ]
  },
  {
   "cell_type": "code",
   "execution_count": 5,
   "id": "b9ef15f0-8c6e-4e29-8911-e19c26e33bf0",
   "metadata": {},
   "outputs": [],
   "source": [
    "raw_documents = loader.load()"
   ]
  },
  {
   "cell_type": "code",
   "execution_count": 6,
   "id": "197330a1-8276-457f-ade7-3c030a6f8f0c",
   "metadata": {},
   "outputs": [],
   "source": [
    "text_splitter = RecursiveCharacterTextSplitter()\n",
    "documents = text_splitter.split_documents(raw_documents)"
   ]
  },
  {
   "cell_type": "code",
   "execution_count": 7,
   "id": "be77219b-eb9d-492c-bd0f-b942367b24f1",
   "metadata": {},
   "outputs": [
    {
     "name": "stderr",
     "output_type": "stream",
     "text": [
      "/var/folders/kh/lpp45f9x2tl4dnfssb8yd5c40000gn/T/ipykernel_21843/2815216993.py:1: LangChainDeprecationWarning: The class `OpenAIEmbeddings` was deprecated in LangChain 0.0.9 and will be removed in 1.0. An updated version of the class exists in the :class:`~langchain-openai package and should be used instead. To use it run `pip install -U :class:`~langchain-openai` and import as `from :class:`~langchain_openai import OpenAIEmbeddings``.\n",
      "  embeddings = OpenAIEmbeddings(api_key=config.api_key)\n"
     ]
    }
   ],
   "source": [
    "embeddings = OpenAIEmbeddings(api_key=config.api_key)"
   ]
  },
  {
   "cell_type": "code",
   "execution_count": 8,
   "id": "4d97ece4-fe74-4182-83f7-cbf322fe805d",
   "metadata": {},
   "outputs": [],
   "source": [
    "vectorstore = FAISS.from_documents(documents, embeddings)"
   ]
  },
  {
   "cell_type": "code",
   "execution_count": 9,
   "id": "73dcc097-0850-42bf-9388-17823ea4110b",
   "metadata": {},
   "outputs": [
    {
     "name": "stderr",
     "output_type": "stream",
     "text": [
      "/var/folders/kh/lpp45f9x2tl4dnfssb8yd5c40000gn/T/ipykernel_21843/3103747979.py:1: LangChainDeprecationWarning: Please see the migration guide at: https://python.langchain.com/docs/versions/migrating_memory/\n",
      "  memory = ConversationBufferMemory(memory_key='chat_history', return_messages=True)\n"
     ]
    }
   ],
   "source": [
    "memory = ConversationBufferMemory(memory_key='chat_history', return_messages=True)"
   ]
  },
  {
   "cell_type": "code",
   "execution_count": 10,
   "id": "06f4b839-2d6c-4e91-9191-7e575550efcc",
   "metadata": {},
   "outputs": [
    {
     "name": "stderr",
     "output_type": "stream",
     "text": [
      "/var/folders/kh/lpp45f9x2tl4dnfssb8yd5c40000gn/T/ipykernel_21843/1149510555.py:1: LangChainDeprecationWarning: The class `ChatOpenAI` was deprecated in LangChain 0.0.10 and will be removed in 1.0. An updated version of the class exists in the :class:`~langchain-openai package and should be used instead. To use it run `pip install -U :class:`~langchain-openai` and import as `from :class:`~langchain_openai import ChatOpenAI``.\n",
      "  qa = ConversationalRetrievalChain.from_llm(ChatOpenAI(api_key=config.api_key,\n"
     ]
    }
   ],
   "source": [
    "qa = ConversationalRetrievalChain.from_llm(ChatOpenAI(api_key=config.api_key, \n",
    "                                                      model=\"gpt-4o-mini\",\n",
    "                                                      temperature = 0),\n",
    "                                           vectorstore.as_retriever(), \n",
    "                                           memory=memory)"
   ]
  },
  {
   "cell_type": "code",
   "execution_count": 11,
   "id": "cc83720c-aa7d-420a-9110-0f7e602b0771",
   "metadata": {},
   "outputs": [],
   "source": [
    "query = \"What are the engine specs on the LM 002 and what is its max speed\""
   ]
  },
  {
   "cell_type": "code",
   "execution_count": 13,
   "id": "f923e83c-b90c-4642-a444-f34ac71e8eb3",
   "metadata": {},
   "outputs": [
    {
     "name": "stderr",
     "output_type": "stream",
     "text": [
      "/var/folders/kh/lpp45f9x2tl4dnfssb8yd5c40000gn/T/ipykernel_21843/2183404553.py:1: LangChainDeprecationWarning: The method `Chain.__call__` was deprecated in langchain 0.1.0 and will be removed in 1.0. Use :meth:`~invoke` instead.\n",
      "  result = qa({'question': query})\n"
     ]
    }
   ],
   "source": [
    "result = qa({'question': query})"
   ]
  },
  {
   "cell_type": "code",
   "execution_count": 14,
   "id": "e46d52e3-95c6-4e90-a99f-733202eb6707",
   "metadata": {},
   "outputs": [
    {
     "data": {
      "text/plain": [
       "'The Lamborghini LM 002 is powered by a 5.2-liter 12-cylinder engine from the Countach Quattrovalvole, which was revised to ensure greater torque and enable the use of lower-octane fuels. The LM 002 is capable of speeds up to 200 km/h.'"
      ]
     },
     "execution_count": 14,
     "metadata": {},
     "output_type": "execute_result"
    }
   ],
   "source": [
    "result['answer']"
   ]
  },
  {
   "cell_type": "code",
   "execution_count": null,
   "id": "bbe37192-df38-4662-9ee6-9dc9ccc5acad",
   "metadata": {},
   "outputs": [],
   "source": []
  }
 ],
 "metadata": {
  "kernelspec": {
   "display_name": "Python 3 (ipykernel)",
   "language": "python",
   "name": "python3"
  },
  "language_info": {
   "codemirror_mode": {
    "name": "ipython",
    "version": 3
   },
   "file_extension": ".py",
   "mimetype": "text/x-python",
   "name": "python",
   "nbconvert_exporter": "python",
   "pygments_lexer": "ipython3",
   "version": "3.13.5"
  }
 },
 "nbformat": 4,
 "nbformat_minor": 5
}
