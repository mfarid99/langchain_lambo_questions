{
 "cells": [
  {
   "cell_type": "code",
   "execution_count": 28,
   "id": "d3855798-5c47-45f4-b4a2-74de6e1015ba",
   "metadata": {},
   "outputs": [
    {
     "name": "stdout",
     "output_type": "stream",
     "text": [
      "Metallica is the greatest Metallica has certainly left an indelible mark on the world of music! Their powerful riffs, complex compositions, and thought\n"
     ]
    }
   ],
   "source": [
    "from openai import OpenAI\n",
    "import config \n",
    "\n",
    "client = OpenAI(api_key=config.api_key)\n",
    "\n",
    "def complete_text(prompt: str) -> str:\n",
    "    resp = client.responses.create(\n",
    "        model=\"gpt-4o-mini\",\n",
    "        input=prompt,\n",
    "        max_output_tokens=25\n",
    "    )\n",
    "    return resp.output_text\n",
    "\n",
    "prompt = \"Metallica is the greatest\"\n",
    "\n",
    "completed_text = complete_text(prompt)\n",
    "print(prompt, completed_text)\n"
   ]
  },
  {
   "cell_type": "code",
   "execution_count": null,
   "id": "7e70ff66-64ac-4b70-bd4e-19cee71ca673",
   "metadata": {},
   "outputs": [],
   "source": []
  }
 ],
 "metadata": {
  "kernelspec": {
   "display_name": "Python 3 (ipykernel)",
   "language": "python",
   "name": "python3"
  },
  "language_info": {
   "codemirror_mode": {
    "name": "ipython",
    "version": 3
   },
   "file_extension": ".py",
   "mimetype": "text/x-python",
   "name": "python",
   "nbconvert_exporter": "python",
   "pygments_lexer": "ipython3",
   "version": "3.13.5"
  }
 },
 "nbformat": 4,
 "nbformat_minor": 5
}
